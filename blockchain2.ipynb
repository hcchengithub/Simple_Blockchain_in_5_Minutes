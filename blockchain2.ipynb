{
 "cells": [
  {
   "cell_type": "markdown",
   "metadata": {},
   "source": [
    "## 改寫原始 tutorial 檔 blockchain (1).ipynb 的 mine() \n",
    "\n",
    "mine() 傳回 nonce 就好，不要多做。"
   ]
  },
  {
   "cell_type": "markdown",
   "metadata": {
    "colab_type": "text",
    "id": "1CP2wAT5pRwV"
   },
   "source": [
    "## Whats a Block?\n",
    "\n",
    "![alt text](fig1.png)\n",
    "\n",
    "\n",
    "## Whats a Blockchain? \n",
    "\n",
    "![alt text](fig2.png)\n",
    "\n",
    "\n",
    "## Show Demo\n"
   ]
  },
  {
   "cell_type": "markdown",
   "metadata": {
    "colab_type": "text",
    "id": "tQ6IllyVqVbZ"
   },
   "source": [
    "## 4 Step Process!\n",
    "1. Import dependencies\n",
    "2. Create a block\n",
    "3. Create a blockchain\n",
    "4. Print out the blockchain"
   ]
  },
  {
   "cell_type": "code",
   "execution_count": 1,
   "metadata": {},
   "outputs": [],
   "source": [
    "import peforth"
   ]
  },
  {
   "cell_type": "code",
   "execution_count": 2,
   "metadata": {},
   "outputs": [
    {
     "name": "stdout",
     "output_type": "stream",
     "text": [
      "reDef unknown\n"
     ]
    }
   ],
   "source": [
    "%%f 擴充、修訂一下 peforth 的行為模式，讓它認得 jupyter notebook 下的 globals. Dot . 也改寫了，適合 jupyter notebook 學習環境使用。\n",
    ": unknown ( token -- thing Y|N) // Try to find the unknown token in __main__\n",
    "  py> getattr(sys.modules['__main__'],pop(),\"Ûnknôwn\") \n",
    "  py> str(tos())==\"Ûnknôwn\" if drop false else true then ;\n",
    "  /// here after, when FORTH come accross an unknown token, instead of alerting \n",
    "  /// it try to find the token in python __main__ module name space.\n",
    ": ... tib. ; // ( tos -- ) A better dot that also prints the entire command line\n",
    "  /// For experiments that need to show both question and result.\n",
    "  /// \"\" . prints the command line only, w/o the TOS.\n",
    ": path-to-find-modules ( <path> -- ) // Add path to sys.path so \"import module-name\" can find the module\n",
    "    CR word trim ( \"path\" ) py: sys.path.append(pop()) ;\n",
    "code # print(nexttoken('\\n')) end-code // Redefine \\ command to print the comment line \n",
    "0 value locals // ( -- dict ) local variables at the breakpoint\n",
    "\\ peforth.ok('bp>',loc=locals(),cmd=':> [0] to locals')\n",
    "\\ *debug* init>"
   ]
  },
  {
   "cell_type": "markdown",
   "metadata": {
    "colab_type": "text",
    "id": "RAvxFkk6qe_E"
   },
   "source": [
    "## Step 1 - Import Dependencies"
   ]
  },
  {
   "cell_type": "code",
   "execution_count": 3,
   "metadata": {
    "colab": {},
    "colab_type": "code",
    "id": "ceKI8Fdwqj6O"
   },
   "outputs": [],
   "source": [
    "#generates timestamps\n",
    "import datetime\n",
    "#contains hashing algorithms\n",
    "import hashlib"
   ]
  },
  {
   "cell_type": "markdown",
   "metadata": {
    "colab_type": "text",
    "id": "6EGMjFPvqmSf"
   },
   "source": [
    "## Step 2 - Create a Block "
   ]
  },
  {
   "cell_type": "code",
   "execution_count": 4,
   "metadata": {
    "colab": {},
    "colab_type": "code",
    "id": "kKgaSzZaqqqc"
   },
   "outputs": [],
   "source": [
    "#defining the 'block' data structure\n",
    "class Block:\n",
    "    #each block has 7 attributes \n",
    "  \n",
    "    #1 number of the block\n",
    "    blockNo = 0\n",
    "    #2 what data is stored in this block?\n",
    "    data = None\n",
    "    #3 pointer to the next block\n",
    "    next = None\n",
    "    #4 The hash of this block (serves as a unique ID and verifies its integrity)\n",
    "    #A hash is a function that converts data into a number within a certain range. \n",
    "    hash = None\n",
    "    #5 A nonce is a number only used once  \n",
    "    nonce = 0\n",
    "    #6 store the hash (ID) of the previous block in the chain\n",
    "    previous_hash = 0x0\n",
    "    #7 timestamp \n",
    "    # timestamp = datetime.datetime.now()\n",
    "    timestamp = datetime.datetime(1,1,1,1,1)  # 故意把時間固定，看看 hash 是否就固定了。\n",
    "\n",
    "    #We initialize a block by storing some data in it\n",
    "    def __init__(self, data):\n",
    "        self.data = data\n",
    "\n",
    "    #Function to compute 'hash' of a block\n",
    "    #a hash acts as both a unique identifier\n",
    "    #& verifies its integrity\n",
    "    #if someone changes the hash of a block\n",
    "    #every block that comes after it is changed \n",
    "    #this helps make a blockchain immutable\n",
    "    def hash(self):\n",
    "        #SHA-256 is a hashing algorithm that\n",
    "        # generates an almost-unique 256-bit signature that represents\n",
    "        # some piece of text\n",
    "        h = hashlib.sha256()\n",
    "        #the input to the SHA-256 algorithm\n",
    "        #will be a concatenated string\n",
    "        #consisting of 5 block attributes\n",
    "        #the nonce, data, previous hash, timestamp, & block #\n",
    "        h.update(\n",
    "        str(self.nonce).encode('utf-8') +\n",
    "        str(self.data).encode('utf-8') +\n",
    "        str(self.previous_hash).encode('utf-8') +\n",
    "        str(self.timestamp).encode('utf-8') +\n",
    "        str(self.blockNo).encode('utf-8')\n",
    "        )\n",
    "        #returns a hexademical string\n",
    "        return h.hexdigest()\n",
    "      \n",
    "        ## SHOW DEMO 2, change data \n",
    "\n",
    "    def __str__(self):\n",
    "        #print out the value of a block\n",
    "        return \"Block Hash: \" + str(self.hash()) + \"\\nBlockNo: \" + str(self.blockNo) + \"\\nBlock Data: \" + str(self.data) + \"\\nHashes: \" + str(self.nonce) + \"\\n--------------\"\n"
   ]
  },
  {
   "cell_type": "markdown",
   "metadata": {
    "colab_type": "text",
    "id": "4Tg4xzysqvfu"
   },
   "source": [
    "## Step 3 - Create a Blockchain"
   ]
  },
  {
   "cell_type": "code",
   "execution_count": 5,
   "metadata": {
    "colab": {},
    "colab_type": "code",
    "id": "B9FofJLanhtF"
   },
   "outputs": [],
   "source": [
    "#defining the blockchain datastructure\n",
    "#consists of 'blocks' linked together\n",
    "#to form a 'chain'. Thats why its called\n",
    "#'blockchain'\n",
    "class Blockchain:\n",
    "    \n",
    "    #mining difficulty\n",
    "    diff = 20\n",
    "    #2^32. This is the maximum number\n",
    "    #we can store in a 32-bit number\n",
    "    maxNonce = 2**32\n",
    "    #target hash, for mining\n",
    "    target = 2 ** (256-diff)  # python 真的可以處理這麼大或更大的數字。\n",
    "\n",
    "    #generates the first block in the blockchain\n",
    "    #this is called the 'genesis block'\n",
    "    block = Block(\"Genesis\")\n",
    "    #sets it as the head of our blockchain\n",
    "    head = block\n",
    "\n",
    "    #adds a given block to the chain of blocks\n",
    "    #the block to be added is the only parameter\n",
    "    def add(self, block):\n",
    "        \n",
    "        #set the hash of a given block\n",
    "        #as our new block's previous hash\n",
    "        block.previous_hash = self.block.hash()\n",
    "        #set the block # of our new block\n",
    "        #as the given block's # + 1, since\n",
    "        #its next in the chain\n",
    "        block.blockNo = self.block.blockNo + 1\n",
    "\n",
    "        #set the next block equal to \n",
    "        #itself. This is the new head \n",
    "        #of the blockchain\n",
    "        self.block.next = block\n",
    "        self.block = self.block.next\n",
    "\n",
    "    #Determines whether or not we can add a given block to\n",
    "    #the blockchain. mine(block) 真正的產出是該 block 的 nonce, nonce 對應 hash 而 hash() 每次都重算。\n",
    "    def mine(self, block):\n",
    "        #from 0 to 2^32 \n",
    "        for n in range(self.maxNonce):\n",
    "            #is the value of the given block's hash less than our target value?\n",
    "            if int(block.hash(), 16) <= self.target:\n",
    "                # #if it is,\n",
    "                # #add the block to the chain\n",
    "                # self.add(block)\n",
    "                # print(block)\n",
    "                # %f datetime :> datetime.now() . cr \\ 每 mine 一個都要花幾秒到十幾秒的時間\n",
    "                return n\n",
    "            else:\n",
    "                block.nonce += 1  # 如果 hash 不出來，就 nonce++ 然後 retry\n",
    "        # 如果全部失敗怎麼辦？ \n",
    "        return 0  # 傳回 0 代表失敗了 mine 不出結果。\n",
    "   \n",
    "    ## Show demo 3 ! Mine a block"
   ]
  },
  {
   "cell_type": "code",
   "execution_count": 6,
   "metadata": {},
   "outputs": [
    {
     "data": {
      "text/plain": [
       "32317006071311007300714876688669951960444102669715484032130345427524655138867890893197201411522913463688717960921898019494119559150490921095088152386448283120630877367300996091750197750389652106796057638384067568276792218642619756161838094338476170470581645852036305042887575891541065808607552399123930385521914333389668342420684974786564569494856176035326322058077805659331026192708460314150258592864177116725943603718461857357598351152301645904403697613233287231227125684710820209725157101726931323469678542580656697935045997268352998638215525166389437335543602135433229604645318478604952148193555853611059596230656"
      ]
     },
     "execution_count": 6,
     "metadata": {},
     "output_type": "execute_result"
    }
   ],
   "source": [
    "2**2048 # python 真的可以處理這麼大或更大的數字。"
   ]
  },
  {
   "cell_type": "markdown",
   "metadata": {
    "colab_type": "text",
    "id": "5HgdauZ-q4q9"
   },
   "source": [
    "## Step 4 - Print the blockchain "
   ]
  },
  {
   "cell_type": "code",
   "execution_count": 7,
   "metadata": {
    "colab": {},
    "colab_type": "code",
    "id": "qxu2OSIqq8a6"
   },
   "outputs": [
    {
     "name": "stdout",
     "output_type": "stream",
     "text": [
      "0: 2019-01-07 19:14:48.375221\n",
      "nonce of newblock is 660752\n",
      "1: 2019-01-07 19:14:52.880673\n",
      "nonce of newblock is 435509\n",
      "2: 2019-01-07 19:14:55.833001\n",
      "nonce of newblock is 1414590\n",
      "3: 2019-01-07 19:15:05.113278\n",
      "nonce of newblock is 250090\n",
      "4: 2019-01-07 19:15:06.606433\n",
      "nonce of newblock is 1724585\n",
      "5: 2019-01-07 19:15:17.744125\n",
      "nonce of newblock is 4012503\n",
      "6: 2019-01-07 19:15:42.990823\n",
      "nonce of newblock is 1226570\n",
      "7: 2019-01-07 19:15:50.304680\n",
      "nonce of newblock is 3789176\n",
      "8: 2019-01-07 19:16:13.195723\n",
      "nonce of newblock is 1003706\n",
      "9: 2019-01-07 19:16:19.118362\n",
      "nonce of newblock is 64917\n",
      "10: 2019-01-07 19:16:19.525131\n",
      "\n",
      "Block Hash: 1e522fb9cf033c25854be483d9a019ff8dbb577fdf7abbbdaea4e6ef6e7372f9\n",
      "BlockNo: 0\n",
      "Block Data: Genesis\n",
      "Hashes: 0\n",
      "--------------\n",
      "Block Hash: f520503fd819ab099a7bf1cb677c71b9ad42aec68e2cba2aea41f6b862776848\n",
      "BlockNo: 1\n",
      "Block Data: Block 1\n",
      "Hashes: 660752\n",
      "--------------\n",
      "Block Hash: a896b90f19066f6126b78be837d0a8ddd3aff1f4b601869cfb9aa187f7815664\n",
      "BlockNo: 2\n",
      "Block Data: Block 2\n",
      "Hashes: 435509\n",
      "--------------\n",
      "Block Hash: c65d4366143676cfa0a761e853ac1de931746db64eecb92c435397b387449393\n",
      "BlockNo: 3\n",
      "Block Data: Block 3\n",
      "Hashes: 1414590\n",
      "--------------\n",
      "Block Hash: e1bb5bf2d0d8a5ac446347bc366ef75ad01a47904e62f2afd83373f42c9c272b\n",
      "BlockNo: 4\n",
      "Block Data: Block 4\n",
      "Hashes: 250090\n",
      "--------------\n",
      "Block Hash: ef44a4eb5c032b7d2944c63c7e543364997df6a48860003abb14c123550a3f49\n",
      "BlockNo: 5\n",
      "Block Data: Block 5\n",
      "Hashes: 1724585\n",
      "--------------\n",
      "Block Hash: 46f95f8de7d3431552ad2b3eff76acc527c6026c5b3ff79e229d29c6001e50f6\n",
      "BlockNo: 6\n",
      "Block Data: Block 6\n",
      "Hashes: 4012503\n",
      "--------------\n",
      "Block Hash: a46894387c2f4f69d881f2ef0cfcec9d64b1b3c827fed5462bcd7b066419a471\n",
      "BlockNo: 7\n",
      "Block Data: Block 7\n",
      "Hashes: 1226570\n",
      "--------------\n",
      "Block Hash: 0a5fd86b69c59a67a66c5012aa35f66255aab7cb7ad04391e7086658ba389124\n",
      "BlockNo: 8\n",
      "Block Data: Block 8\n",
      "Hashes: 3789176\n",
      "--------------\n",
      "Block Hash: 5b1b495a76715e8d020c96b99f74ef5728a583ae9fbf30f76f9f26eb05581111\n",
      "BlockNo: 9\n",
      "Block Data: Block 9\n",
      "Hashes: 1003706\n",
      "--------------\n",
      "Block Hash: 27a3dda2f2097763886ee812aef75a19ed57462860aece89435e659456cbcf6d\n",
      "BlockNo: 10\n",
      "Block Data: Block 10\n",
      "Hashes: 64917\n",
      "--------------\n"
     ]
    }
   ],
   "source": [
    "#initialize blockchain\n",
    "blockchain = Blockchain()\n",
    "\n",
    "#mine 10 blocks\n",
    "for n in range(10):\n",
    "    %f n . .\" : \" datetime :> datetime.now() . cr\n",
    "    newblock = Block(\"Block \" + str(n+1))\n",
    "    nonce = blockchain.mine(newblock)\n",
    "    %f .\" nonce of newblock is \" nonce . cr \n",
    "    if nonce:\n",
    "        blockchain.add(newblock)\n",
    "    else:\n",
    "        print('Failed to mine this block:\\n' + newblock)\n",
    "%f n 1+ . .\" : \" datetime :> datetime.now() . cr cr\n",
    "        \n",
    "    \n",
    "#print out each block in the blockchain\n",
    "while blockchain.head != None:\n",
    "    print(blockchain.head)\n",
    "    blockchain.head = blockchain.head.next"
   ]
  },
  {
   "cell_type": "code",
   "execution_count": null,
   "metadata": {},
   "outputs": [],
   "source": [
    "%f datetime :> datetime.now() . cr"
   ]
  },
  {
   "cell_type": "code",
   "execution_count": null,
   "metadata": {
    "scrolled": true
   },
   "outputs": [],
   "source": [
    "%f blockchain :> head .\n",
    "%f blockchain (see)"
   ]
  },
  {
   "cell_type": "code",
   "execution_count": null,
   "metadata": {
    "scrolled": false
   },
   "outputs": [],
   "source": [
    "%f blockchain .members"
   ]
  }
 ],
 "metadata": {
  "colab": {
   "collapsed_sections": [],
   "name": "blockchain.ipynb",
   "provenance": [],
   "version": "0.3.2"
  },
  "kernelspec": {
   "display_name": "Python 3",
   "language": "python",
   "name": "python3"
  },
  "language_info": {
   "codemirror_mode": {
    "name": "ipython",
    "version": 3
   },
   "file_extension": ".py",
   "mimetype": "text/x-python",
   "name": "python",
   "nbconvert_exporter": "python",
   "pygments_lexer": "ipython3",
   "version": "3.6.0"
  }
 },
 "nbformat": 4,
 "nbformat_minor": 1
}

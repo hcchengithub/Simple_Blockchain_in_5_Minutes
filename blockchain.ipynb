{
 "cells": [
  {
   "cell_type": "markdown",
   "metadata": {
    "colab_type": "text",
    "id": "1CP2wAT5pRwV"
   },
   "source": [
    "## Whats a Block?\n",
    "\n",
    "![alt text](fig1.png)\n",
    "\n",
    "\n",
    "## Whats a Blockchain? \n",
    "\n",
    "![alt text](fig2.png)\n",
    "\n",
    "\n",
    "## Show Demo\n"
   ]
  },
  {
   "cell_type": "markdown",
   "metadata": {
    "colab_type": "text",
    "id": "tQ6IllyVqVbZ"
   },
   "source": [
    "## 4 Step Process!\n",
    "1. Import dependencies\n",
    "2. Create a block\n",
    "3. Create a blockchain\n",
    "4. Print out the blockchain"
   ]
  },
  {
   "cell_type": "code",
   "execution_count": 1,
   "metadata": {},
   "outputs": [],
   "source": [
    "import peforth"
   ]
  },
  {
   "cell_type": "code",
   "execution_count": 2,
   "metadata": {},
   "outputs": [
    {
     "name": "stdout",
     "output_type": "stream",
     "text": [
      "reDef unknown\n"
     ]
    }
   ],
   "source": [
    "%%f 擴充、修訂一下 peforth 的行為模式，讓它認得 jupyter notebook 下的 globals. Dot . 也改寫了，適合 jupyter notebook 學習環境使用。\n",
    ": unknown ( token -- thing Y|N) // Try to find the unknown token in __main__\n",
    "  py> getattr(sys.modules['__main__'],pop(),\"Ûnknôwn\") \n",
    "  py> str(tos())==\"Ûnknôwn\" if drop false else true then ;\n",
    "  /// here after, when FORTH come accross an unknown token, instead of alerting \n",
    "  /// it try to find the token in python __main__ module name space.\n",
    ": ... tib. ; // ( tos -- ) A better dot that also prints the entire command line\n",
    "  /// For experiments that need to show both question and result.\n",
    "  /// \"\" . prints the command line only, w/o the TOS.\n",
    ": path-to-find-modules ( <path> -- ) // Add path to sys.path so \"import module-name\" can find the module\n",
    "    CR word trim ( \"path\" ) py: sys.path.append(pop()) ;\n",
    "code # print(nexttoken('\\n')) end-code // Redefine \\ command to print the comment line \n"
   ]
  },
  {
   "cell_type": "markdown",
   "metadata": {
    "colab_type": "text",
    "id": "RAvxFkk6qe_E"
   },
   "source": [
    "## Step 1 - Import Dependencies"
   ]
  },
  {
   "cell_type": "code",
   "execution_count": 3,
   "metadata": {
    "colab": {},
    "colab_type": "code",
    "id": "ceKI8Fdwqj6O"
   },
   "outputs": [],
   "source": [
    "#generates timestamps\n",
    "import datetime\n",
    "#contains hashing algorithms\n",
    "import hashlib"
   ]
  },
  {
   "cell_type": "markdown",
   "metadata": {
    "colab_type": "text",
    "id": "6EGMjFPvqmSf"
   },
   "source": [
    "## Step 2 - Create a Block "
   ]
  },
  {
   "cell_type": "code",
   "execution_count": 5,
   "metadata": {
    "colab": {},
    "colab_type": "code",
    "id": "kKgaSzZaqqqc"
   },
   "outputs": [],
   "source": [
    "#defining the 'block' data structure\n",
    "class Block:\n",
    "    #each block has 7 attributes \n",
    "  \n",
    "    #1 number of the block\n",
    "    blockNo = 0\n",
    "    #2 what data is stored in this block?\n",
    "    data = None\n",
    "    #3 pointer to the next block\n",
    "    next = None\n",
    "    #4 The hash of this block (serves as a unique ID and verifies its integrity)\n",
    "    #A hash is a function that converts data into a number within a certain range. \n",
    "    hash = None\n",
    "    #5 A nonce is a number only used once  \n",
    "    nonce = 0\n",
    "    #6 store the hash (ID) of the previous block in the chain\n",
    "    previous_hash = 0x0\n",
    "    #7 timestamp \n",
    "    timestamp = datetime.datetime.now()\n",
    "\n",
    "    #We initialize a block by storing some data in it\n",
    "    def __init__(self, data):\n",
    "        self.data = data\n",
    "\n",
    "    #Function to compute 'hash' of a block\n",
    "    #a hash acts as both a unique identifier\n",
    "    #& verifies its integrity\n",
    "    #if someone changes the hash of a block\n",
    "    #every block that comes after it is changed \n",
    "    #this helps make a blockchain immutable\n",
    "    def hash(self):\n",
    "        #SHA-256 is a hashing algorithm that\n",
    "        # generates an almost-unique 256-bit signature that represents\n",
    "        # some piece of text\n",
    "        h = hashlib.sha256()\n",
    "        #the input to the SHA-256 algorithm\n",
    "        #will be a concatenated string\n",
    "        #consisting of 5 block attributes\n",
    "        #the nonce, data, previous hash, timestamp, & block #\n",
    "        h.update(\n",
    "        str(self.nonce).encode('utf-8') +\n",
    "        str(self.data).encode('utf-8') +\n",
    "        str(self.previous_hash).encode('utf-8') +\n",
    "        str(self.timestamp).encode('utf-8') +\n",
    "        str(self.blockNo).encode('utf-8')\n",
    "        )\n",
    "        #returns a hexademical string\n",
    "        return h.hexdigest()\n",
    "      \n",
    "        ## SHOW DEMO 2, change data \n",
    "\n",
    "    def __str__(self):\n",
    "        #print out the value of a block\n",
    "        return \"Block Hash: \" + str(self.hash()) + \"\\nBlockNo: \" + str(self.blockNo) + \"\\nBlock Data: \" + str(self.data) + \"\\nHashes: \" + str(self.nonce) + \"\\n--------------\"\n"
   ]
  },
  {
   "cell_type": "markdown",
   "metadata": {
    "colab_type": "text",
    "id": "4Tg4xzysqvfu"
   },
   "source": [
    "## Step 3 - Create a Blockchain"
   ]
  },
  {
   "cell_type": "code",
   "execution_count": 8,
   "metadata": {
    "colab": {},
    "colab_type": "code",
    "id": "B9FofJLanhtF"
   },
   "outputs": [],
   "source": [
    "#defining the blockchain datastructure\n",
    "#consists of 'blocks' linked together\n",
    "#to form a 'chain'. Thats why its called\n",
    "#'blockchain'\n",
    "class Blockchain:\n",
    "    \n",
    "    #mining difficulty\n",
    "    diff = 20\n",
    "    #2^32. This is the maximum number\n",
    "    #we can store in a 32-bit number\n",
    "    maxNonce = 2**32\n",
    "    #target hash, for mining\n",
    "    target = 2 ** (256-diff)  # python 真的可以處理這麼大或更大的數字。\n",
    "\n",
    "    #generates the first block in the blockchain\n",
    "    #this is called the 'genesis block'\n",
    "    block = Block(\"Genesis\")\n",
    "    #sets it as the head of our blockchain\n",
    "    head = block\n",
    "\n",
    "    #adds a given block to the chain of blocks\n",
    "    #the block to be added is the only parameter\n",
    "    def add(self, block):\n",
    "        \n",
    "        #set the hash of a given block\n",
    "        #as our new block's previous hash\n",
    "        block.previous_hash = self.block.hash()\n",
    "        #set the block # of our new block\n",
    "        #as the given block's # + 1, since\n",
    "        #its next in the chain\n",
    "        block.blockNo = self.block.blockNo + 1\n",
    "\n",
    "        #set the next block equal to \n",
    "        #itself. This is the new head \n",
    "        #of the blockchain\n",
    "        self.block.next = block\n",
    "        self.block = self.block.next\n",
    "\n",
    "    #Determines whether or not we can add a given block to\n",
    "    #the blockchain. mine(block) 真正的產出是該 block 的 nonce, nonce 對應 hash 而 hash() 每次都重算。\n",
    "    def mine(self, block):\n",
    "        #from 0 to 2^32 \n",
    "        for n in range(self.maxNonce):\n",
    "            #is the value of the given block's hash less than our target value?\n",
    "            if int(block.hash(), 16) <= self.target:\n",
    "                #if it is,\n",
    "                #add the block to the chain\n",
    "                self.add(block)\n",
    "                print(block)\n",
    "                %f datetime :> datetime.now() . cr \\ 每 mine 一個都要花幾秒到十幾秒的時間\n",
    "                break\n",
    "            else:\n",
    "                block.nonce += 1  # 如果 hash 不出來，就 nonce++ 然後 retry\n",
    "            # 如果全部失敗怎麼辦？ \n",
    "   \n",
    "    ## Show demo 3 ! Mine a block"
   ]
  },
  {
   "cell_type": "code",
   "execution_count": null,
   "metadata": {},
   "outputs": [],
   "source": [
    "2**2048 # python 真的可以處理這麼大或更大的數字。"
   ]
  },
  {
   "cell_type": "markdown",
   "metadata": {
    "colab_type": "text",
    "id": "5HgdauZ-q4q9"
   },
   "source": [
    "## Step 4 - Print the blockchain "
   ]
  },
  {
   "cell_type": "code",
   "execution_count": 9,
   "metadata": {
    "colab": {},
    "colab_type": "code",
    "id": "qxu2OSIqq8a6"
   },
   "outputs": [
    {
     "name": "stdout",
     "output_type": "stream",
     "text": [
      "2019-01-07 15:33:24.069650\n",
      "Block Hash: f509b3b4799d3d258c687c53503562551af899b5db5a2e6325000851cee99350\n",
      "BlockNo: 1\n",
      "Block Data: Block 1\n",
      "Hashes: 743351\n",
      "--------------\n",
      "2019-01-07 15:33:30.251127\n",
      "Block Hash: c9ac7105078adf69a76f4683cab3ce8090bec0307dfba76d81787df31b60abcc\n",
      "BlockNo: 2\n",
      "Block Data: Block 2\n",
      "Hashes: 799165\n",
      "--------------\n",
      "2019-01-07 15:33:36.711447\n",
      "Block Hash: 5b497f6bf761355b551320254a335f302938edc8bf7d2d05e853d197108a6067\n",
      "BlockNo: 3\n",
      "Block Data: Block 3\n",
      "Hashes: 123142\n",
      "--------------\n",
      "2019-01-07 15:33:37.736864\n",
      "Block Hash: c9bd0327ab904c2541674b7f14a4fb955569a52a17ac9daf60e5934652b94e8d\n",
      "BlockNo: 4\n",
      "Block Data: Block 4\n",
      "Hashes: 126963\n",
      "--------------\n",
      "2019-01-07 15:33:38.770275\n",
      "Block Hash: 410cc6e515362fa5ec01eff129df230519b1c573e91c42a31d7bfb13af15c6e7\n",
      "BlockNo: 5\n",
      "Block Data: Block 5\n",
      "Hashes: 574392\n",
      "--------------\n",
      "2019-01-07 15:33:43.550553\n",
      "Block Hash: 5807dafa07d7e1e3f92dc5c634ee9bd525e86922bf491e6df0a709b817fac40c\n",
      "BlockNo: 6\n",
      "Block Data: Block 6\n",
      "Hashes: 1354916\n",
      "--------------\n",
      "2019-01-07 15:33:55.944494\n",
      "Block Hash: 887fd4d40464be25dda4c1d33fdfc1c8e2df0b874b3de99e70e16370ca553952\n",
      "BlockNo: 7\n",
      "Block Data: Block 7\n",
      "Hashes: 656882\n",
      "--------------\n",
      "2019-01-07 15:34:00.956640\n",
      "Block Hash: 2d08c50a71bd3e890b3ed0ba65b085e86c2532de609a0f2c8856b6fc8d4d97f7\n",
      "BlockNo: 8\n",
      "Block Data: Block 8\n",
      "Hashes: 22366\n",
      "--------------\n",
      "2019-01-07 15:34:01.120547\n",
      "Block Hash: c0ab353ea52e70f166f77e6fb8f2e0f7cec64e1a231192b7970575fd17f11ef3\n",
      "BlockNo: 9\n",
      "Block Data: Block 9\n",
      "Hashes: 568437\n",
      "--------------\n",
      "2019-01-07 15:34:06.164673\n",
      "Block Hash: 66ce60c91a364e395fb19666cbc88488e69c2d2a288e5c6bf13aa4e1f814af6b\n",
      "BlockNo: 10\n",
      "Block Data: Block 10\n",
      "Hashes: 1769370\n",
      "--------------\n",
      "2019-01-07 15:34:22.034633\n",
      "Block Hash: 1c6457e5d1ba906af9be61ede84cdc77b516d246328b1831c0bfc904f88fe165\n",
      "BlockNo: 0\n",
      "Block Data: Genesis\n",
      "Hashes: 0\n",
      "--------------\n",
      "Block Hash: f509b3b4799d3d258c687c53503562551af899b5db5a2e6325000851cee99350\n",
      "BlockNo: 1\n",
      "Block Data: Block 1\n",
      "Hashes: 743351\n",
      "--------------\n",
      "Block Hash: c9ac7105078adf69a76f4683cab3ce8090bec0307dfba76d81787df31b60abcc\n",
      "BlockNo: 2\n",
      "Block Data: Block 2\n",
      "Hashes: 799165\n",
      "--------------\n",
      "Block Hash: 5b497f6bf761355b551320254a335f302938edc8bf7d2d05e853d197108a6067\n",
      "BlockNo: 3\n",
      "Block Data: Block 3\n",
      "Hashes: 123142\n",
      "--------------\n",
      "Block Hash: c9bd0327ab904c2541674b7f14a4fb955569a52a17ac9daf60e5934652b94e8d\n",
      "BlockNo: 4\n",
      "Block Data: Block 4\n",
      "Hashes: 126963\n",
      "--------------\n",
      "Block Hash: 410cc6e515362fa5ec01eff129df230519b1c573e91c42a31d7bfb13af15c6e7\n",
      "BlockNo: 5\n",
      "Block Data: Block 5\n",
      "Hashes: 574392\n",
      "--------------\n",
      "Block Hash: 5807dafa07d7e1e3f92dc5c634ee9bd525e86922bf491e6df0a709b817fac40c\n",
      "BlockNo: 6\n",
      "Block Data: Block 6\n",
      "Hashes: 1354916\n",
      "--------------\n",
      "Block Hash: 887fd4d40464be25dda4c1d33fdfc1c8e2df0b874b3de99e70e16370ca553952\n",
      "BlockNo: 7\n",
      "Block Data: Block 7\n",
      "Hashes: 656882\n",
      "--------------\n",
      "Block Hash: 2d08c50a71bd3e890b3ed0ba65b085e86c2532de609a0f2c8856b6fc8d4d97f7\n",
      "BlockNo: 8\n",
      "Block Data: Block 8\n",
      "Hashes: 22366\n",
      "--------------\n",
      "Block Hash: c0ab353ea52e70f166f77e6fb8f2e0f7cec64e1a231192b7970575fd17f11ef3\n",
      "BlockNo: 9\n",
      "Block Data: Block 9\n",
      "Hashes: 568437\n",
      "--------------\n",
      "Block Hash: 66ce60c91a364e395fb19666cbc88488e69c2d2a288e5c6bf13aa4e1f814af6b\n",
      "BlockNo: 10\n",
      "Block Data: Block 10\n",
      "Hashes: 1769370\n",
      "--------------\n"
     ]
    }
   ],
   "source": [
    "#initialize blockchain\n",
    "blockchain = Blockchain()\n",
    "%f datetime :> datetime.now() . cr\n",
    "\n",
    "#mine 10 blocks\n",
    "for n in range(10):\n",
    "    blockchain.mine(Block(\"Block \" + str(n+1)))\n",
    "    \n",
    "#print out each block in the blockchain\n",
    "while blockchain.head != None:\n",
    "    print(blockchain.head)\n",
    "    blockchain.head = blockchain.head.next"
   ]
  },
  {
   "cell_type": "code",
   "execution_count": 4,
   "metadata": {},
   "outputs": [
    {
     "name": "stdout",
     "output_type": "stream",
     "text": [
      "2019-01-07 15:29:11.548371\n"
     ]
    }
   ],
   "source": [
    "%f datetime :> datetime.now() . cr"
   ]
  },
  {
   "cell_type": "code",
   "execution_count": null,
   "metadata": {
    "scrolled": true
   },
   "outputs": [],
   "source": [
    "%f blockchain :> head .\n",
    "%f blockchain (see)"
   ]
  },
  {
   "cell_type": "code",
   "execution_count": null,
   "metadata": {
    "scrolled": false
   },
   "outputs": [],
   "source": [
    "%f blockchain .members"
   ]
  }
 ],
 "metadata": {
  "colab": {
   "collapsed_sections": [],
   "name": "blockchain.ipynb",
   "provenance": [],
   "version": "0.3.2"
  },
  "kernelspec": {
   "display_name": "Python 3",
   "language": "python",
   "name": "python3"
  },
  "language_info": {
   "codemirror_mode": {
    "name": "ipython",
    "version": 3
   },
   "file_extension": ".py",
   "mimetype": "text/x-python",
   "name": "python",
   "nbconvert_exporter": "python",
   "pygments_lexer": "ipython3",
   "version": "3.6.0"
  }
 },
 "nbformat": 4,
 "nbformat_minor": 1
}
